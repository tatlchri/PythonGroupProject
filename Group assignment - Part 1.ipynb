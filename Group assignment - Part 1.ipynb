{
 "cells": [
  {
   "cell_type": "markdown",
   "metadata": {},
   "source": [
    "<b>\n",
    "BS1819-1617  \n",
    "Data Structures and Algorithms  \n",
    "Group Assignment  \n",
    "</b>\n",
    "\n",
    "Team 3:  \n",
    "  * Ahmad Bilal Aslam  \n",
    "  * Chris Ying  \n",
    "  * Christina Lefkothea Tatli   \n",
    "  * Joh B  \n",
    "  * Kelvin Goh  \n",
    "  * Selly Salkha  \n",
    "\n",
    "\n",
    "<b><u> Part 1 </u></b>\n",
    "\n",
    "<b>Stock returns</b>\n",
    "\n",
    "i. Calculate the daily returns for all stocks in the data. \n",
    "\n",
    "* Please refer to the returns_Stocks function below. We had used pandas built-in function, but we have also coded it manually, with the returns_Stocks_manual_calc function. We had used the test_returns_Stock_built_in_equals_manual function to ensure that the values are the same.\n"
   ]
  },
  {
   "cell_type": "code",
   "execution_count": 1,
   "metadata": {
    "collapsed": false,
    "scrolled": true
   },
   "outputs": [],
   "source": [
    "\n",
    "import pandas as pd\n",
    "import numpy as np\n",
    "import csv\n",
    "\n",
    "##### START OF PART 1 - calculate daily returns #####\n",
    "\n",
    "##~~ KEY VARIABLE: \"returns\" stores daily returns of stocks\n",
    "\n",
    "##### To Read company names into a dictionary\n",
    "def readNamesIntoDict():\n",
    "    d = dict()\n",
    "    input_file = csv.DictReader(open(\"SP_500_firms.csv\"))\n",
    "    for row in input_file:\n",
    "        #print(row)\n",
    "        d[row['Symbol']] = [row['Name'],row['Sector']]\n",
    "    return d\n",
    "\n",
    "##### To calculate daily returns from stock prices\n",
    "def returns_Stocks(priceData):      \n",
    "    # input is a pd.dataframe of stock prices\n",
    "    # output is a pd.dataframe of daily returns    \n",
    "    returns = priceData.pct_change()\n",
    "    # remove index 0 of returns - it's a nan value because the first period data has no daily return\n",
    "    #returns = returns[1:len(returns)]\n",
    "    # We had used the built-in function, the next function below is the manual calculation\n",
    "    return returns\n",
    "\n",
    "def returns_Stocks_manual_calc(priceData):      \n",
    "    # Manual calculation of the returns\n",
    "    returns = priceData / priceData.shift(1) - 1\n",
    "    # remove index 0 of returns - it's a nan value because the first period data has no daily return\n",
    "    #returns = returns[1:len(returns)]\n",
    "    return returns\n",
    "\n",
    "# make sure that the manual calculation is same as built-in function\n",
    "def test_returns_Stock_built_in_equals_manual(priceData):  \n",
    "    returns_built_in = returns_Stocks(priceData)\n",
    "    returns_manual = returns_Stocks_manual_calc(priceData)\n",
    "    difference = returns_built_in - returns_manual \n",
    "    print(\"The total difference between built-in and manual way of calculating daily returns, across stocks and time period, is:\", difference.sum().sum()) \n",
    "\n",
    "##### Several functions to determine which stock has max, min return; which are overall best, worst stocks; and max and min std of daily returns\n",
    "def max_return(returns, namesDict = readNamesIntoDict()):    \n",
    "    # input: pd.dataframe of daily returns, and a dictionary of company/sector (call the readNamesIntoDict() function if the dictionary is not passed as an argument)\n",
    "    # output: returns the maximum daily return along with company name and Sector\n",
    "    maxDaily_byComp  = returns.max()            #Maximum returns for each company\n",
    "\n",
    "    maxDaily = maxDaily_byComp.max()            #Overall highest daily return\n",
    "    maxDaily_CompSym = maxDaily_byComp.idxmax() #Getting index of the maximum return value\n",
    "\n",
    "    maxDaily_CompName = namesDict[maxDaily_CompSym][0]  #Company Name using its symbol\n",
    "    maxDaily_Sector = namesDict[maxDaily_CompSym][1]    #Company Sector\n",
    "    \n",
    "    return maxDaily_Sector, maxDaily_CompName, maxDaily\n",
    "    \n",
    "\n",
    "def min_return (returns, namesDict = readNamesIntoDict()):    \n",
    "    # input: pd.dataframe of daily returns, and a dictionary of company/sector (call the readNamesIntoDict() function if the dictionary is not passed as an argument)\n",
    "    # output: returns the minimum daily return along with company name and Sector\n",
    "\n",
    "    minDaily_byComp  = returns.min()            #Minimum returns for each company\n",
    "\n",
    "    minDaily = minDaily_byComp.min()            #Overall lowest daily return\n",
    "    minDaily_CompSym = minDaily_byComp.idxmin() #Getting index of the minimum return value\n",
    "\n",
    "    minDaily_CompName = namesDict[minDaily_CompSym][0]  #Company Name using its symbol\n",
    "    minDaily_Sector = namesDict[minDaily_CompSym][1]    #Company Sector\n",
    "    \n",
    "    return minDaily_Sector, minDaily_CompName, minDaily\n",
    "\n",
    "\n",
    "def overall_best (priceData, namesDict = readNamesIntoDict()):    \n",
    "    # input: pd.dataframe of price data, and a dictionary of company/sector (call the readNamesIntoDict() function if the dictionary is not passed as an argument)\n",
    "    # output: returns the maximum yearly return along with company name and Sector\n",
    "    overallReturn_byComp  = priceData.iloc[-1] / priceData.iloc[0] - 1   #yearly returns for each company\n",
    "\n",
    "    overallBest = overallReturn_byComp.max()            #best yearly return\n",
    "    overallBest_CompSym = overallReturn_byComp.idxmax() #Getting index of the best yearly return\n",
    "\n",
    "     #Loading Company Symbols mapping into namesDict\n",
    "    overallBest_CompName = namesDict[overallBest_CompSym][0]  #Company Name using its symbol\n",
    "    overallBest_Sector = namesDict[overallBest_CompSym][1]    #Company Sector\n",
    "    \n",
    "    return overallBest_Sector, overallBest_CompName, overallBest\n",
    "    \n",
    "\n",
    "def overall_worst (priceData, namesDict = readNamesIntoDict()):    \n",
    "    # input: pd.dataframe of price data, and a dictionary of company/sector (call the readNamesIntoDict() function if the dictionary is not passed as an argument)\n",
    "    # output: returns the minimum yearly return along with company name and Sector\n",
    "    overallReturn_byComp  = priceData.iloc[-1] / priceData.iloc[0] - 1   #yearly returns for each company\n",
    "\n",
    "    overallWorst = overallReturn_byComp.min()            #worst yearly return\n",
    "    overallWorst_CompSym = overallReturn_byComp.idxmin() #Getting index of the worst yearly return\n",
    "\n",
    "    overallWorst_CompName = namesDict[overallWorst_CompSym][0]  #Company Name using its symbol\n",
    "    overallWorst_Sector = namesDict[overallWorst_CompSym][1]    #Company Sector\n",
    "    \n",
    "    return overallWorst_Sector, overallWorst_CompName, overallWorst\n",
    "\n",
    "\n",
    "def max_std (returns, namesDict = readNamesIntoDict()):    \n",
    "    # input: pd.dataframe of price data, and a dictionary of company/sector (call the readNamesIntoDict() function if the dictionary is not passed as an argument)\n",
    "    # output: returns the maximum std. dev along with company name and Sector\n",
    "    std_byComp  = returns.std()            #std. dev of returns for each company\n",
    "\n",
    "    maxStd = std_byComp.max()            #maximum std. dev\n",
    "    maxStd_CompSym = std_byComp.idxmax() #Getting index of the maximum std. dev\n",
    "\n",
    "    namesDict = readNamesIntoDict() #Loading Company Symbols mapping into namesDict\n",
    "    maxStd_CompName = namesDict[maxStd_CompSym][0]  #Company Name using its symbol\n",
    "    maxStd_Sector = namesDict[maxStd_CompSym][1]    #Company Sector\n",
    "    \n",
    "    return maxStd_Sector, maxStd_CompName, maxStd\n",
    "    \n",
    "    \n",
    "def min_std (returns, namesDict = readNamesIntoDict()):    \n",
    "    # input: pd.dataframe of price data, and a dictionary of company/sector (call the readNamesIntoDict() function if the dictionary is not passed as an argument)\n",
    "    # output: returns the minimum std. dev along with company name and Sector\n",
    "    std_byComp  = returns.std()            #std. dev of returns for each company\n",
    "\n",
    "    minStd = std_byComp.min()            #minimum std. dev\n",
    "    minStd_CompSym = std_byComp.idxmin() #Getting index of the minimum std. dev\n",
    "\n",
    "    minStd_CompName = namesDict[minStd_CompSym][0]  #Company Name using its symbol\n",
    "    minStd_Sector = namesDict[minStd_CompSym][1]    #Company Sector\n",
    "    \n",
    "    return minStd_Sector, minStd_CompName, minStd\n",
    "\n",
    "\n",
    "##### Read company names into a dictionary\n",
    "namesDict = readNamesIntoDict()\n",
    "\n",
    "##### Read Prices Data into pandas\n",
    "filename = 'SP_500_close_2015.csv'\n",
    "priceData = pd.read_csv(filename,index_col = 0)\n",
    "\n",
    "##### Call the function to calculate stocks' daily returns from the price data\n",
    "returns = returns_Stocks (priceData)\n",
    "\n",
    "# test that manual and built-in calculations are the same\n",
    "# uncomment the next line of code to run test\n",
    "#test_returns_Stock_built_in_equals_manual(priceData)\n",
    "\n",
    "\n",
    "##### END OF PART 1 #####\n",
    "\n"
   ]
  },
  {
   "cell_type": "markdown",
   "metadata": {
    "collapsed": true
   },
   "source": [
    "ii. Discuss the returns over the year: what companies experienced the maximum and minimum daily returns \n",
    "\n",
    "* Please refer to the results below."
   ]
  },
  {
   "cell_type": "code",
   "execution_count": 2,
   "metadata": {
    "collapsed": false
   },
   "outputs": [
    {
     "name": "stdout",
     "output_type": "stream",
     "text": [
      "Freeport-McMoran Cp & Gld , which belongs to the Materials sector, had the maximum daily return of the year i.e. 28.66 %.\n",
      "Quanta Services Inc. , which belongs to the Industrials sector, had the minimum daily return of the year i.e. -28.5 %.\n"
     ]
    }
   ],
   "source": [
    "a, b, c = max_return (returns, namesDict)\n",
    "print(b,\", which belongs to the\",a,\"sector, had the maximum daily return of the year i.e.\", round(c*100,2), \"%.\")\n",
    "#http://investors.fcx.com/investor-center/news-releases/news-release-details/2015/Freeport-McMoRan-Announces-Further-Spending-Cuts-in-Response-to-Market-Conditions/default.aspx\n",
    "\n",
    "a, b, c = min_return (returns, namesDict)\n",
    "print(b,\", which belongs to the\",a,\"sector, had the minimum daily return of the year i.e.\", round(c*100,2), \"%.\")\n",
    "#the company warned that third-quarter results wouldn't be as strong as expected.\n"
   ]
  },
  {
   "cell_type": "markdown",
   "metadata": {},
   "source": [
    "ii (continued). Can you fi\u001c",
    "nd the reasons for these? \n",
    "\n",
    "* [More text to 'find the reasons for these']\n"
   ]
  },
  {
   "cell_type": "markdown",
   "metadata": {},
   "source": [
    "iii. Which companies performed overall best and worst over the year? "
   ]
  },
  {
   "cell_type": "code",
   "execution_count": 3,
   "metadata": {
    "collapsed": false
   },
   "outputs": [
    {
     "name": "stdout",
     "output_type": "stream",
     "text": [
      "Netflix Inc. , which belongs to the Information Technology sector, had the best overall performance of the year with a return of 129.45 %.\n",
      "Chesapeake Energy , which belongs to the Energy sector, had the worst overall performance of the year with a return of -76.98 %.\n"
     ]
    }
   ],
   "source": [
    "a, b, c = overall_best (priceData, namesDict)\n",
    "print(b,\", which belongs to the\",a,\"sector, had the best overall performance of the year with a return of\", round(c*100,2), \"%.\")\n",
    "\n",
    "a, b, c = overall_worst (priceData, namesDict)\n",
    "print(b,\", which belongs to the\",a,\"sector, had the worst overall performance of the year with a return of\", round(c*100,2), \"%.\")\n"
   ]
  },
  {
   "cell_type": "markdown",
   "metadata": {},
   "source": [
    "iii (continued). \n",
    "\n",
    "* [add descriptions if need be, e.g. assumptions on what is considered to be overall best]"
   ]
  },
  {
   "cell_type": "markdown",
   "metadata": {},
   "source": [
    "iv. Which companies exhibited most and least volatility, as measured by the standard deviation of their returns over the year?"
   ]
  },
  {
   "cell_type": "code",
   "execution_count": 4,
   "metadata": {
    "collapsed": false
   },
   "outputs": [
    {
     "name": "stdout",
     "output_type": "stream",
     "text": [
      "Freeport-McMoran Cp & Gld , which belongs to the Materials sector, exhibited the most volatility in its returns during the year, with a standard deviation of 4.41 %.\n",
      "The Coca Cola Company , which belongs to the Consumer Staples sector, exhibited the least volatility in its returns during the year, with a standard deviation of 0.91 %.\n"
     ]
    }
   ],
   "source": [
    "a, b, c = max_std (returns, namesDict)\n",
    "print(b,\", which belongs to the\",a,\"sector, exhibited the most volatility in its returns during the year, with a standard deviation of\", round(c*100,2), \"%.\")\n",
    "#\n",
    "a, b, c = min_std (returns, namesDict)\n",
    "print(b,\", which belongs to the\",a,\"sector, exhibited the least volatility in its returns during the year, with a standard deviation of\", round(c*100,2), \"%.\")\n"
   ]
  },
  {
   "cell_type": "markdown",
   "metadata": {},
   "source": [
    "iv (continued). \n",
    "\n",
    "* [add descriptions if need be]"
   ]
  },
  {
   "cell_type": "code",
   "execution_count": null,
   "metadata": {
    "collapsed": true
   },
   "outputs": [],
   "source": []
  }
 ],
 "metadata": {
  "kernelspec": {
   "display_name": "Python [Root]",
   "language": "python",
   "name": "Python [Root]"
  },
  "language_info": {
   "codemirror_mode": {
    "name": "ipython",
    "version": 3
   },
   "file_extension": ".py",
   "mimetype": "text/x-python",
   "name": "python",
   "nbconvert_exporter": "python",
   "pygments_lexer": "ipython3",
   "version": "3.5.2"
  }
 },
 "nbformat": 4,
 "nbformat_minor": 0
}
