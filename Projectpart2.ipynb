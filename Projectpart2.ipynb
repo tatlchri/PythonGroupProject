{
 "cells": [
  {
   "cell_type": "markdown",
   "metadata": {},
   "source": [
    "## Part 2"
   ]
  },
  {
   "cell_type": "markdown",
   "metadata": {},
   "source": [
    "In this section, we will calculate the correlations between all stocks using returns calculated in part 1. We will also write functions that allow users to conveniently:\n",
    "- print out correlations between two companies \n",
    "- print out top and bottom correlated companies of a specified company"
   ]
  },
  {
   "cell_type": "markdown",
   "metadata": {},
   "source": [
    "### Correlation dataframe using panda"
   ]
  },
  {
   "cell_type": "markdown",
   "metadata": {},
   "source": [
    "Firstly, we calcuated the correlations between companies using the built-in function pd.corr() in the Panda library. "
   ]
  },
  {
   "cell_type": "code",
   "execution_count": null,
   "metadata": {
    "collapsed": true
   },
   "outputs": [],
   "source": [
    "def corTable(returns):\n",
    "    # Input: a panda dataframe consisting the returns of all the stocks\n",
    "    # Output: a symmetric panda dataframe with correlations between all companies\n",
    "    # this uses the built-in function. The manual calculation is as below.\n",
    "    return returns.corr()"
   ]
  },
  {
   "cell_type": "markdown",
   "metadata": {},
   "source": [
    "With this corTable function we can now create our correlationTable using returns from part 1. "
   ]
  },
  {
   "cell_type": "code",
   "execution_count": null,
   "metadata": {
    "collapsed": false
   },
   "outputs": [],
   "source": [
    "# store correlation results (to use as input for other functions)\n",
    "correlationTable = corTable(returns) "
   ]
  },
  {
   "cell_type": "markdown",
   "metadata": {},
   "source": [
    "#### Checking panda results with direct calculation from definition using Python"
   ]
  },
  {
   "cell_type": "markdown",
   "metadata": {},
   "source": [
    "In order to check that the Panda built-in functions has done its job accurately, we created a function to calculate the correlation manually from definition and compare with the number obtained from panda. "
   ]
  },
  {
   "cell_type": "markdown",
   "metadata": {},
   "source": [
    "Firstly we need a panda dataframe that fetch company full name from its abbreviations:"
   ]
  },
  {
   "cell_type": "code",
   "execution_count": null,
   "metadata": {
    "collapsed": false
   },
   "outputs": [],
   "source": [
    "compData = pd.read_csv('SP_500_firms.csv', index_col = 0)"
   ]
  },
  {
   "cell_type": "markdown",
   "metadata": {},
   "source": [
    "This is the function to check if panda correlation results are same as calculating manually:"
   ]
  },
  {
   "cell_type": "code",
   "execution_count": null,
   "metadata": {
    "collapsed": true
   },
   "outputs": [],
   "source": [
    "##### Compare panda method and python manual method of calculating correlations\n",
    "def testCor(correlationTable, companyA, companyB):\n",
    "    print('Panda method:')\n",
    "    print(correlationTable.loc[companyA,companyB])\n",
    "    print('Standard data structure method')\n",
    "    a,b = np.array(returns.get(companyA).tolist(),dtype = float),np.array(returns.get(companyB).tolist(),dtype = float)\n",
    "    print(np.sum((a - np.mean(a))/np.std(a)*(b - np.mean(b))/np.std(b))/(len(a)))"
   ]
  },
  {
   "cell_type": "markdown",
   "metadata": {},
   "source": [
    "For example, if we wish to test the correlation between Google and Facebook is calculated correctly, we would run the following:"
   ]
  },
  {
   "cell_type": "code",
   "execution_count": null,
   "metadata": {
    "collapsed": true
   },
   "outputs": [],
   "source": [
    "# To test if built-in and manual way of finding correlations are the same\n",
    "testCor(correlationTable, 'GOOGL', 'FB')"
   ]
  },
  {
   "cell_type": "markdown",
   "metadata": {},
   "source": [
    "### Printing correlation between two companies"
   ]
  },
  {
   "cell_type": "markdown",
   "metadata": {},
   "source": [
    "Here is the function we created to print the correlation between two specified companies by fetching the corresponding entry in the correlationTable. "
   ]
  },
  {
   "cell_type": "code",
   "execution_count": null,
   "metadata": {
    "collapsed": true
   },
   "outputs": [],
   "source": [
    "##### Print correlation between company A and B\n",
    "def printCor(correlationTable, companyA, companyB):\n",
    "    corr = correlationTable.loc[companyA,companyB]\n",
    "    nameA = compData.loc[companyA,'Name']\n",
    "    nameB = compData.loc[companyB,'Name']\n",
    "    return nameA, nameB, corr"
   ]
  },
  {
   "cell_type": "markdown",
   "metadata": {},
   "source": [
    "For example, if we wish to print the correlation between Amazon and Facebook, then we would:"
   ]
  },
  {
   "cell_type": "code",
   "execution_count": null,
   "metadata": {
    "collapsed": true
   },
   "outputs": [],
   "source": [
    "printCor(correlationTable, 'FB', 'AMZN')"
   ]
  },
  {
   "cell_type": "markdown",
   "metadata": {},
   "source": [
    "### Printing top and bottom correlated companies"
   ]
  },
  {
   "cell_type": "markdown",
   "metadata": {},
   "source": [
    "Here is the function we created to print the top and bottom (most positively and negatively correlated) companies of a specified company. "
   ]
  },
  {
   "cell_type": "code",
   "execution_count": null,
   "metadata": {
    "collapsed": true
   },
   "outputs": [],
   "source": [
    "##### List top correlated companies of a company   \n",
    "def topCor(correlationTable,company):\n",
    "    min = correlationTable[company].sort_values()[0:5]\n",
    "    max = correlationTable[company].sort_values(ascending=False)[1:6]\n",
    "    list1 = []\n",
    "    list2 = []\n",
    "    for i in min.index:\n",
    "        list1.append(compData.loc[i,'Name'])\n",
    "    for i in max.index:\n",
    "        list2.append(compData.loc[i,'Name'])\n",
    "    min.index = list1\n",
    "    max.index = list2\n",
    "    print('Most -ve correlated:')\n",
    "    print(min)\n",
    "    print('Most +ve correlated:')\n",
    "    print(max)"
   ]
  },
  {
   "cell_type": "markdown",
   "metadata": {},
   "source": [
    "We then used the function topCor to find the top and bottom correlated companies of Apple, Amazon, Google, Facebook and Microsoft. "
   ]
  },
  {
   "cell_type": "code",
   "execution_count": null,
   "metadata": {
    "collapsed": true
   },
   "outputs": [],
   "source": [
    "topCor(correlationTable,'AAPL')\n",
    "topCor(correlationTable,'AMZN')\n",
    "topCor(correlationTable,'MSFT')\n",
    "topCor(correlationTable,'FB')\n",
    "topCor(correlationTable,'GOOGL')"
   ]
  },
  {
   "cell_type": "markdown",
   "metadata": {},
   "source": [
    "#### Interpreting the above results"
   ]
  },
  {
   "cell_type": "markdown",
   "metadata": {},
   "source": [
    "These are some interesting results and some are expected:"
   ]
  },
  {
   "cell_type": "markdown",
   "metadata": {},
   "source": [
    "Google:\n",
    "- Its very high positive correlation with Alphabet Inc is expected since Alphabet is the parent company of Google. If the value of Google goes up the value of Alphabet Inc is likely to good up, and vice versa. \n",
    "- Its high positive correlation with giant tech companies such as Facebook and Amazon is also expected since they are very similar companies and hence would perform similarly in the same market conditions. "
   ]
  },
  {
   "cell_type": "markdown",
   "metadata": {},
   "source": [
    "Facebook:\n",
    "- Its high positive correlation with Mastercard and Fiserv (both technological financial service companies) is expected because Facebook is a platform that help advertising and attracting people shop pay and shop online and hence helping these companies to expand their businesses. \n"
   ]
  },
  {
   "cell_type": "markdown",
   "metadata": {},
   "source": [
    "Amazon:\n",
    "- Its positive correlation with Alphabet is expected due to the similar type of companies they are. Tech companies are likely to do similarly over time under the same market conditions\n",
    "- Its positive correlation with Mastercard and Visa is expected because they are the two most popular ways to pay online and hence Visa and Mastercard would benefit form good performance of Amazon. "
   ]
  },
  {
   "cell_type": "markdown",
   "metadata": {},
   "source": [
    "Apple: \n",
    "- Skywork and Illinois Tool Works are electronic component manufacturers (especially Skywork where they make wireless handset chips) and perhaps Apple manufacture products which require chips and components from these companies and hence their stock performance would be correlated; when Apple announces a new product, causing its value to rise, these electronic components manufacturer is likely to make a lot of money through selling components to Apple. "
   ]
  },
  {
   "cell_type": "code",
   "execution_count": null,
   "metadata": {
    "collapsed": true
   },
   "outputs": [],
   "source": []
  }
 ],
 "metadata": {
  "kernelspec": {
   "display_name": "Python [Root]",
   "language": "python",
   "name": "Python [Root]"
  },
  "language_info": {
   "codemirror_mode": {
    "name": "ipython",
    "version": 3
   },
   "file_extension": ".py",
   "mimetype": "text/x-python",
   "name": "python",
   "nbconvert_exporter": "python",
   "pygments_lexer": "ipython3",
   "version": "3.5.2"
  }
 },
 "nbformat": 4,
 "nbformat_minor": 0
}
